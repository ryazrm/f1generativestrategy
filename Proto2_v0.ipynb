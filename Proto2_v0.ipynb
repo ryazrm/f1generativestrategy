{
 "cells": [
  {
   "cell_type": "markdown",
   "id": "2e3b1bde-23bc-4bb4-a620-7e4aa9c01fdc",
   "metadata": {},
   "source": [
    "# Importación de dependencias y lectura de datasets."
   ]
  },
  {
   "cell_type": "code",
   "execution_count": 279,
   "id": "25d56c34-eefd-46fa-8d97-e9cac68a5a35",
   "metadata": {},
   "outputs": [],
   "source": [
    "import pandas as pd\n",
    "import numpy as np\n",
    "\n",
    "from sklearn.preprocessing import OneHotEncoder, MinMaxScaler\n",
    "\n",
    "from tensorflow.keras.layers import Input, Dense, Concatenate, LeakyReLU\n",
    "from tensorflow.keras.models import Model\n",
    "from tensorflow.keras.optimizers import Adam\n",
    "\n",
    "# Dataset Oracle-RedBull\n",
    "races_info = pd.read_csv('final_data_abu_dhabi.csv')"
   ]
  },
  {
   "cell_type": "markdown",
   "id": "2d77349f-8f51-4c7c-8ffb-1bf495fc91cf",
   "metadata": {},
   "source": [
    "# Definición de variables de entrada y salida"
   ]
  },
  {
   "cell_type": "code",
   "execution_count": 280,
   "id": "7b777c22-5d43-4933-8f88-e43c673e7cae",
   "metadata": {},
   "outputs": [],
   "source": [
    "# Variables de entrada (condiciones)\n",
    "input_cols = [\n",
    "    'EventName', 'RoundNumber', 'eventYear', 'Team', 'Driver',\n",
    "    'meanAirTemp', 'meanTrackTemp', 'meanHumid', 'Rainfall',\n",
    "    'GridPosition', 'CircuitLength', 'designedLaps'\n",
    "]\n",
    "\n",
    "# Variables de salida (estrategia)\n",
    "output_cols = ['lapNumberAtBeginingOfStint', 'Compound', 'StintLen']"
   ]
  },
  {
   "cell_type": "markdown",
   "id": "ce89ac7b-0a2d-4347-a595-69f1dc86a9d3",
   "metadata": {},
   "source": [
    "# EDA"
   ]
  },
  {
   "cell_type": "code",
   "execution_count": 281,
   "id": "6da0dbdc-8482-4b51-90ea-6d9c81fd1f93",
   "metadata": {},
   "outputs": [],
   "source": [
    "# Limpieza nulos\n",
    "races_info = races_info[input_cols + output_cols].dropna()"
   ]
  },
  {
   "cell_type": "code",
   "execution_count": 282,
   "id": "ae19f632-7e10-47ba-a77b-3cf97a59d620",
   "metadata": {},
   "outputs": [
    {
     "name": "stdout",
     "output_type": "stream",
     "text": [
      "Forma de numeric_input: (178, 8)\n",
      "Forma de encoded_input: (178, 62)\n"
     ]
    }
   ],
   "source": [
    "# Codificar variables categóricas de entrada\n",
    "\n",
    "categorical_cols_input = ['EventName', 'Team', 'Driver', 'Rainfall']\n",
    "encoder_input = OneHotEncoder(sparse_output=False)\n",
    "encoded_input = encoder_input.fit_transform(races_info[categorical_cols_input])\n",
    "\n",
    "# Variables numéricas de entrada\n",
    "numeric_cols_input = ['RoundNumber', 'eventYear', 'meanAirTemp', 'meanTrackTemp',\n",
    "                      'meanHumid', 'GridPosition', 'CircuitLength', 'designedLaps']\n",
    "numeric_input = races_info[numeric_cols_input].values\n",
    "print('Forma de numeric_input:', numeric_input.shape)\n",
    "print('Forma de encoded_input:', encoded_input.shape)\n",
    "# Combinar y escalar\n",
    "X = np.hstack((numeric_input, encoded_input))\n",
    "scaler_input = MinMaxScaler()\n",
    "X = scaler_input.fit_transform(X)"
   ]
  },
  {
   "cell_type": "code",
   "execution_count": 283,
   "id": "fdbbacb4-dbec-4b17-9984-c4ede3e7c453",
   "metadata": {},
   "outputs": [],
   "source": [
    "# Codificar variables categóricas de salida\n",
    "\n",
    "encoder_output = OneHotEncoder(sparse_output=False)\n",
    "compound_encoded = encoder_output.fit_transform(races_info[['Compound']])\n",
    "\n",
    "numeric_cols_output = ['lapNumberAtBeginingOfStint', 'StintLen']\n",
    "numeric_output = races_info[numeric_cols_output].values\n",
    "\n",
    "scaler_output = MinMaxScaler(feature_range=(0, 1))\n",
    "numeric_output_scaled = scaler_output.fit_transform(numeric_output)\n",
    "compound_encoded = encoder_output.fit_transform(races_info[['Compound']])\n",
    "y = np.hstack((numeric_output_scaled, compound_encoded))"
   ]
  },
  {
   "cell_type": "markdown",
   "id": "b756e267-79f9-4bca-8279-6e5e74fa6aee",
   "metadata": {},
   "source": [
    "# Arquitectura CGAN"
   ]
  },
  {
   "cell_type": "code",
   "execution_count": 284,
   "id": "3ac557e6-fda0-403e-9a62-96b3ad190ed0",
   "metadata": {},
   "outputs": [],
   "source": [
    "condition_dim = X.shape[1]\n",
    "num_output_dim = len(numeric_cols_output)  # Número de variables numéricas de salida\n",
    "cat_output_dim = compound_encoded.shape[1]  # Número de categorías de 'Compound'\n",
    "strategy_dim = num_output_dim + cat_output_dim\n",
    "noise_dim = 100"
   ]
  },
  {
   "cell_type": "code",
   "execution_count": 285,
   "id": "5b0bc357-43fc-4737-b88f-7cca89c2e991",
   "metadata": {},
   "outputs": [],
   "source": [
    "# Generador\n",
    "def build_generator(noise_dim, condition_dim, num_output_dim, cat_output_dim):\n",
    "    noise_input = Input(shape=(noise_dim,))\n",
    "    condition_input = Input(shape=(condition_dim,))\n",
    "    merged = Concatenate()([noise_input, condition_input])\n",
    "\n",
    "    x = Dense(128)(merged)\n",
    "    x = LeakyReLU(0.2)(x)\n",
    "    x = Dense(256)(x)\n",
    "    x = LeakyReLU(0.2)(x)\n",
    "\n",
    "    # Salida numérica\n",
    "    num_output = Dense(num_output_dim, activation='sigmoid')(x)\n",
    "    # Salida categórica\n",
    "    cat_output = Dense(cat_output_dim, activation='softmax')(x)\n",
    "\n",
    "    # Combinar salidas\n",
    "    output = Concatenate()([num_output, cat_output])\n",
    "\n",
    "    model = Model([noise_input, condition_input], output)\n",
    "    return model"
   ]
  },
  {
   "cell_type": "code",
   "execution_count": 286,
   "id": "4addc0b2-e1fb-407e-9885-ed5929909cf6",
   "metadata": {},
   "outputs": [],
   "source": [
    "# Discriminador\n",
    "def build_discriminator(strategy_dim, condition_dim):\n",
    "    strategy_input = Input(shape=(strategy_dim,))\n",
    "    condition_input = Input(shape=(condition_dim,))\n",
    "    merged = Concatenate()([strategy_input, condition_input])\n",
    "\n",
    "    x = Dense(256)(merged)\n",
    "    x = LeakyReLU(0.2)(x)\n",
    "    x = Dense(128)(x)\n",
    "    x = LeakyReLU(0.2)(x)\n",
    "    output = Dense(1, activation='sigmoid')(x)\n",
    "\n",
    "    model = Model([strategy_input, condition_input], output)\n",
    "    return model"
   ]
  },
  {
   "cell_type": "code",
   "execution_count": 287,
   "id": "7a700e82-3617-4746-bf3e-733e50b599d3",
   "metadata": {},
   "outputs": [],
   "source": [
    "# Compilar modelos\n",
    "discriminator = build_discriminator(strategy_dim, condition_dim)\n",
    "discriminator.trainable = True  # Asegúrate de que es entrenable\n",
    "optimizer_d = Adam(0.0002, 0.5)\n",
    "discriminator.compile(loss='binary_crossentropy', optimizer=optimizer_d, metrics=['accuracy'])\n",
    "\n",
    "generator = build_generator(noise_dim, condition_dim, num_output_dim, cat_output_dim)\n",
    "\n",
    "discriminator.trainable = False\n",
    "noise_input = Input(shape=(noise_dim,))\n",
    "condition_input = Input(shape=(condition_dim,))\n",
    "generated_strategy = generator([noise_input, condition_input])\n",
    "validity = discriminator([generated_strategy, condition_input])\n",
    "\n",
    "combined_model = Model([noise_input, condition_input], validity)\n",
    "optimizer_g = Adam(0.0002, 0.5)\n",
    "combined_model.compile(loss='binary_crossentropy', optimizer=optimizer_g)"
   ]
  },
  {
   "cell_type": "markdown",
   "id": "931fe101-2d21-46fb-a548-28b718b83484",
   "metadata": {},
   "source": [
    "# Entrenamiento del modelo"
   ]
  },
  {
   "cell_type": "code",
   "execution_count": 288,
   "id": "39ae5beb-eb04-4092-ad32-74bad3bda10f",
   "metadata": {},
   "outputs": [
    {
     "name": "stdout",
     "output_type": "stream",
     "text": [
      "Pesos entrenables del discriminador: 0\n",
      "Pesos entrenables del generador: 8\n",
      "Pesos entrenables del modelo combinado: 8\n",
      "\u001b[1m1/1\u001b[0m \u001b[32m━━━━━━━━━━━━━━━━━━━━\u001b[0m\u001b[37m\u001b[0m \u001b[1m0s\u001b[0m 73ms/step\n"
     ]
    },
    {
     "name": "stderr",
     "output_type": "stream",
     "text": [
      "C:\\Users\\naxo_\\AppData\\Local\\Programs\\Python\\Python312\\Lib\\site-packages\\keras\\src\\backend\\tensorflow\\trainer.py:75: UserWarning: The model does not have any trainable weights.\n",
      "  warnings.warn(\"The model does not have any trainable weights.\")\n"
     ]
    },
    {
     "name": "stdout",
     "output_type": "stream",
     "text": [
      "0 [Pérdida D: 0.7496, Precisión: 31.25%] [Pérdida G: 0.7015]\n",
      "\u001b[1m1/1\u001b[0m \u001b[32m━━━━━━━━━━━━━━━━━━━━\u001b[0m\u001b[37m\u001b[0m \u001b[1m0s\u001b[0m 16ms/step\n",
      "\u001b[1m1/1\u001b[0m \u001b[32m━━━━━━━━━━━━━━━━━━━━\u001b[0m\u001b[37m\u001b[0m \u001b[1m0s\u001b[0m 15ms/step\n",
      "\u001b[1m1/1\u001b[0m \u001b[32m━━━━━━━━━━━━━━━━━━━━\u001b[0m\u001b[37m\u001b[0m \u001b[1m0s\u001b[0m 15ms/step\n",
      "\u001b[1m1/1\u001b[0m \u001b[32m━━━━━━━━━━━━━━━━━━━━\u001b[0m\u001b[37m\u001b[0m \u001b[1m0s\u001b[0m 15ms/step\n"
     ]
    }
   ],
   "source": [
    "epochs = 5\n",
    "batch_size = 32\n",
    "valid = np.ones((batch_size, 1))\n",
    "fake = np.zeros((batch_size, 1))\n",
    "\n",
    "print(\"Pesos entrenables del discriminador:\", len(discriminator.trainable_weights))\n",
    "print(\"Pesos entrenables del generador:\", len(generator.trainable_weights))\n",
    "print(\"Pesos entrenables del modelo combinado:\", len(combined_model.trainable_weights))\n",
    "\n",
    "for epoch in range(epochs):\n",
    "    # Entrenar el discriminador\n",
    "    idx = np.random.randint(0, X.shape[0], batch_size)\n",
    "    real_strategies = y[idx]\n",
    "    conditions = X[idx]\n",
    "\n",
    "    noise = np.random.normal(0, 1, (batch_size, noise_dim))\n",
    "    generated_strategies = generator.predict([noise, conditions])\n",
    "\n",
    "    d_loss_real = discriminator.train_on_batch([real_strategies, conditions], valid)\n",
    "    d_loss_fake = discriminator.train_on_batch([generated_strategies, conditions], fake)\n",
    "    d_loss = 0.5 * np.add(d_loss_real, d_loss_fake)\n",
    "\n",
    "    # Entrenar el generador\n",
    "    noise = np.random.normal(0, 1, (batch_size, noise_dim))\n",
    "    g_loss = combined_model.train_on_batch([noise, conditions], valid)\n",
    "\n",
    "    # Imprimir progreso\n",
    "    if epoch % 100 == 0:\n",
    "        print(f\"{epoch} [Pérdida D: {d_loss[0]:.4f}, Precisión: {d_loss[1]*100:.2f}%] [Pérdida G: {g_loss[0]:.4f}]\")\n"
   ]
  },
  {
   "cell_type": "code",
   "execution_count": 289,
   "id": "b5d778d4-d0a3-4390-854b-64d3f5660f27",
   "metadata": {},
   "outputs": [
    {
     "name": "stdout",
     "output_type": "stream",
     "text": [
      "\u001b[1m1/1\u001b[0m \u001b[32m━━━━━━━━━━━━━━━━━━━━\u001b[0m\u001b[37m\u001b[0m \u001b[1m0s\u001b[0m 75ms/step\n",
      "Estrategia generada:\n",
      "Vuelta de parada: -5.95\n",
      "Duración del stint: -14.03\n",
      "Compuesto de neumático: SOFT\n"
     ]
    }
   ],
   "source": [
    "# Generar una nueva estrategia\n",
    "noise = np.random.normal(0, 1, (1, noise_dim))\n",
    "sample_condition = X[0:1]  # Puedes elegir cualquier condición existente\n",
    "generated_strategy = generator.predict([noise, sample_condition])\n",
    "\n",
    "# Desescalar las variables numéricas\n",
    "generated_num = generated_strategy[:, :num_output_dim]\n",
    "\n",
    "generated_num_descaled = scaler_output.inverse_transform(generated_num)\n",
    "\n",
    "# Decodificar el 'Compound' generado\n",
    "generated_cat = generated_strategy[:, num_output_dim:]\n",
    "compound_index = np.argmax(generated_cat, axis=1)\n",
    "compound_label = encoder_output.categories_[0][compound_index]\n",
    "\n",
    "print(\"Estrategia generada:\")\n",
    "print(f\"Vuelta de parada: {generated_num_descaled[0][0]:.2f}\")\n",
    "print(f\"Duración del stint: {generated_num_descaled[0][1]:.2f}\")\n",
    "print(f\"Compuesto de neumático: {compound_label[0]}\")"
   ]
  },
  {
   "cell_type": "code",
   "execution_count": null,
   "id": "dde2c320-1a4f-46ce-9a71-0ebf30998688",
   "metadata": {},
   "outputs": [],
   "source": []
  },
  {
   "cell_type": "code",
   "execution_count": null,
   "id": "0d8fa39a-d101-4945-a1fa-5d82e4cfc884",
   "metadata": {},
   "outputs": [],
   "source": []
  },
  {
   "cell_type": "code",
   "execution_count": null,
   "id": "9231a003-98f2-4799-a69a-c77ebbbd322b",
   "metadata": {},
   "outputs": [],
   "source": []
  }
 ],
 "metadata": {
  "kernelspec": {
   "display_name": "Python 3 (ipykernel)",
   "language": "python",
   "name": "python3"
  },
  "language_info": {
   "codemirror_mode": {
    "name": "ipython",
    "version": 3
   },
   "file_extension": ".py",
   "mimetype": "text/x-python",
   "name": "python",
   "nbconvert_exporter": "python",
   "pygments_lexer": "ipython3",
   "version": "3.12.6"
  }
 },
 "nbformat": 4,
 "nbformat_minor": 5
}
