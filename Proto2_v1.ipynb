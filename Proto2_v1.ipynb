{
 "cells": [
  {
   "cell_type": "markdown",
   "id": "2e3b1bde-23bc-4bb4-a620-7e4aa9c01fdc",
   "metadata": {},
   "source": [
    "# Importación de dependencias y lectura de datasets."
   ]
  },
  {
   "cell_type": "code",
   "execution_count": 356,
   "id": "25d56c34-eefd-46fa-8d97-e9cac68a5a35",
   "metadata": {},
   "outputs": [],
   "source": [
    "import pandas as pd\n",
    "import numpy as np\n",
    "\n",
    "from sklearn.preprocessing import OneHotEncoder, MinMaxScaler\n",
    "\n",
    "from tensorflow.keras.layers import Input, Dense, Concatenate, LeakyReLU\n",
    "from tensorflow.keras.models import Model, clone_model\n",
    "from tensorflow.keras.optimizers import Adam\n",
    "\n",
    "# Dataset Oracle-RedBull\n",
    "races_info = pd.read_csv('final_data_spanish.csv')"
   ]
  },
  {
   "cell_type": "markdown",
   "id": "2d77349f-8f51-4c7c-8ffb-1bf495fc91cf",
   "metadata": {},
   "source": [
    "# Definición de variables de entrada y salida"
   ]
  },
  {
   "cell_type": "code",
   "execution_count": 357,
   "id": "7b777c22-5d43-4933-8f88-e43c673e7cae",
   "metadata": {},
   "outputs": [],
   "source": [
    "# Variables de entrada (condiciones)\n",
    "input_cols = [\n",
    "    'EventName', 'RoundNumber', 'eventYear', 'Team', 'Driver',\n",
    "    'meanAirTemp', 'meanTrackTemp', 'meanHumid', 'Rainfall',\n",
    "    'GridPosition', 'CircuitLength', 'designedLaps'\n",
    "]\n",
    "\n",
    "# Variables de salida (estrategia)\n",
    "output_cols = ['lapNumberAtBeginingOfStint', 'Compound', 'StintLen']"
   ]
  },
  {
   "cell_type": "markdown",
   "id": "ce89ac7b-0a2d-4347-a595-69f1dc86a9d3",
   "metadata": {},
   "source": [
    "# EDA"
   ]
  },
  {
   "cell_type": "code",
   "execution_count": 358,
   "id": "6da0dbdc-8482-4b51-90ea-6d9c81fd1f93",
   "metadata": {},
   "outputs": [],
   "source": [
    "# Limpieza nulos\n",
    "races_info = races_info[input_cols + output_cols].dropna()"
   ]
  },
  {
   "cell_type": "code",
   "execution_count": 359,
   "id": "ae19f632-7e10-47ba-a77b-3cf97a59d620",
   "metadata": {},
   "outputs": [
    {
     "name": "stdout",
     "output_type": "stream",
     "text": [
      "Forma de numeric_input: (286, 8)\n",
      "Forma de encoded_input: (286, 79)\n"
     ]
    }
   ],
   "source": [
    "# Codificar variables categóricas de entrada\n",
    "\n",
    "categorical_cols_input = ['EventName', 'Team', 'Driver', 'Rainfall']\n",
    "encoder_input = OneHotEncoder(sparse_output=False)\n",
    "encoded_input = encoder_input.fit_transform(races_info[categorical_cols_input])\n",
    "\n",
    "# Variables numéricas de entrada\n",
    "numeric_cols_input = ['RoundNumber', 'eventYear', 'meanAirTemp', 'meanTrackTemp',\n",
    "                      'meanHumid', 'GridPosition', 'CircuitLength', 'designedLaps']\n",
    "numeric_input = races_info[numeric_cols_input].values\n",
    "print('Forma de numeric_input:', numeric_input.shape)\n",
    "print('Forma de encoded_input:', encoded_input.shape)\n",
    "# Combinar y escalar\n",
    "X = np.hstack((numeric_input, encoded_input))\n",
    "scaler_input = MinMaxScaler()\n",
    "X = scaler_input.fit_transform(X)"
   ]
  },
  {
   "cell_type": "code",
   "execution_count": 360,
   "id": "fdbbacb4-dbec-4b17-9984-c4ede3e7c453",
   "metadata": {},
   "outputs": [],
   "source": [
    "# Codificar variables categóricas de salida\n",
    "\n",
    "encoder_output = OneHotEncoder(sparse_output=False)\n",
    "compound_encoded = encoder_output.fit_transform(races_info[['Compound']])\n",
    "\n",
    "numeric_cols_output = ['lapNumberAtBeginingOfStint', 'StintLen']\n",
    "numeric_output = races_info[numeric_cols_output].values\n",
    "\n",
    "scaler_output = MinMaxScaler(feature_range=(0, 1))\n",
    "numeric_output_scaled = scaler_output.fit_transform(numeric_output)\n",
    "compound_encoded = encoder_output.fit_transform(races_info[['Compound']])\n",
    "y = np.hstack((numeric_output_scaled, compound_encoded))"
   ]
  },
  {
   "cell_type": "markdown",
   "id": "b756e267-79f9-4bca-8279-6e5e74fa6aee",
   "metadata": {},
   "source": [
    "# Arquitectura CGAN"
   ]
  },
  {
   "cell_type": "code",
   "execution_count": 361,
   "id": "3ac557e6-fda0-403e-9a62-96b3ad190ed0",
   "metadata": {},
   "outputs": [],
   "source": [
    "condition_dim = X.shape[1]\n",
    "num_output_dim = len(numeric_cols_output)  # Número de variables numéricas de salida\n",
    "cat_output_dim = compound_encoded.shape[1]  # Número de categorías de 'Compound'\n",
    "strategy_dim = num_output_dim + cat_output_dim\n",
    "noise_dim = 100"
   ]
  },
  {
   "cell_type": "code",
   "execution_count": 362,
   "id": "5b0bc357-43fc-4737-b88f-7cca89c2e991",
   "metadata": {},
   "outputs": [],
   "source": [
    "def build_generator(noise_dim, condition_dim, num_output_dim, cat_output_dim):\n",
    "    noise_input = Input(shape=(noise_dim,))\n",
    "    condition_input = Input(shape=(condition_dim,))\n",
    "    merged = Concatenate()([noise_input, condition_input])\n",
    "\n",
    "    x = Dense(128)(merged)\n",
    "    x = LeakyReLU(0.2)(x)\n",
    "    x = Dense(256)(x)\n",
    "    x = LeakyReLU(0.2)(x)\n",
    "\n",
    "    # Salida numérica (asegurando valores positivos para vuelta de parada y duración del stint)\n",
    "    num_output = Dense(num_output_dim, activation='sigmoid')(x)\n",
    "\n",
    "    # Extraer la columna designedLaps de las condiciones\n",
    "    designed_laps = condition_input[:, -1:]  # Asumiendo que designedLaps es la última columna de las condiciones\n",
    "\n",
    "    # Asegurar que la vuelta de parada es al menos 1 y menor que designedLaps\n",
    "    min_stop_lap = 1\n",
    "    adjusted_stop_lap = num_output[:, 0:1] * (designed_laps - min_stop_lap) + min_stop_lap\n",
    "\n",
    "    # Salida categórica para el compuesto del neumático\n",
    "    cat_output = Dense(cat_output_dim, activation='softmax')(x)\n",
    "\n",
    "    # Combinar salidas\n",
    "    output = Concatenate()([adjusted_stop_lap, num_output[:, 1:], cat_output])\n",
    "\n",
    "    model = Model([noise_input, condition_input], output)\n",
    "    return model"
   ]
  },
  {
   "cell_type": "code",
   "execution_count": 363,
   "id": "4addc0b2-e1fb-407e-9885-ed5929909cf6",
   "metadata": {},
   "outputs": [],
   "source": [
    "# Discriminador\n",
    "def build_discriminator(strategy_dim, condition_dim):\n",
    "    strategy_input = Input(shape=(strategy_dim,))\n",
    "    condition_input = Input(shape=(condition_dim,))\n",
    "    merged = Concatenate()([strategy_input, condition_input])\n",
    "\n",
    "    x = Dense(256)(merged)\n",
    "    x = LeakyReLU(0.2)(x)\n",
    "    x = Dense(128)(x)\n",
    "    x = LeakyReLU(0.2)(x)\n",
    "    output = Dense(1, activation='sigmoid')(x)\n",
    "\n",
    "    model = Model([strategy_input, condition_input], output)\n",
    "    return model"
   ]
  },
  {
   "cell_type": "code",
   "execution_count": 364,
   "id": "7a700e82-3617-4746-bf3e-733e50b599d3",
   "metadata": {},
   "outputs": [],
   "source": [
    "# Compilar modelos\n",
    "# Crear el discriminador entrenable y compilarlo\n",
    "discriminator = build_discriminator(strategy_dim, condition_dim)\n",
    "optimizer_d = Adam(0.0002, 0.5)\n",
    "discriminator.compile(loss='binary_crossentropy', optimizer=optimizer_d, metrics=['accuracy'])\n",
    "\n",
    "# Crear una copia del discriminador para usarla como no entrenable en el modelo combinado\n",
    "discriminator_non_trainable = clone_model(discriminator)\n",
    "discriminator_non_trainable.set_weights(discriminator.get_weights())\n",
    "discriminator_non_trainable.trainable = False  # Configurar la copia como no entrenable\n",
    "\n",
    "# Crear el generador normalmente\n",
    "generator = build_generator(noise_dim, condition_dim, num_output_dim, cat_output_dim)\n",
    "\n",
    "# Construir el modelo combinado usando el discriminador no entrenable\n",
    "noise_input = Input(shape=(noise_dim,))\n",
    "condition_input = Input(shape=(condition_dim,))\n",
    "generated_strategy = generator([noise_input, condition_input])\n",
    "validity = discriminator_non_trainable([generated_strategy, condition_input])\n",
    "\n",
    "combined_model = Model([noise_input, condition_input], validity)\n",
    "optimizer_g = Adam(0.0002, 0.5)\n",
    "combined_model.compile(loss='binary_crossentropy', optimizer=optimizer_g)"
   ]
  },
  {
   "cell_type": "markdown",
   "id": "931fe101-2d21-46fb-a548-28b718b83484",
   "metadata": {},
   "source": [
    "# Entrenamiento del modelo"
   ]
  },
  {
   "cell_type": "code",
   "execution_count": 365,
   "id": "39ae5beb-eb04-4092-ad32-74bad3bda10f",
   "metadata": {},
   "outputs": [
    {
     "name": "stdout",
     "output_type": "stream",
     "text": [
      "Pesos entrenables del discriminador: 6\n",
      "Pesos entrenables del generador: 8\n",
      "Pesos entrenables del modelo combinado: 8\n",
      "\u001b[1m1/1\u001b[0m \u001b[32m━━━━━━━━━━━━━━━━━━━━\u001b[0m\u001b[37m\u001b[0m \u001b[1m0s\u001b[0m 96ms/step\n",
      "0 [Pérdida D: 0.6892, Precisión: 57.81%] [Pérdida G: 0.6729]\n",
      "\u001b[1m1/1\u001b[0m \u001b[32m━━━━━━━━━━━━━━━━━━━━\u001b[0m\u001b[37m\u001b[0m \u001b[1m0s\u001b[0m 16ms/step\n",
      "1 [Pérdida D: 0.6987, Precisión: 47.79%] [Pérdida G: 0.6758]\n",
      "\u001b[1m1/1\u001b[0m \u001b[32m━━━━━━━━━━━━━━━━━━━━\u001b[0m\u001b[37m\u001b[0m \u001b[1m0s\u001b[0m 16ms/step\n",
      "2 [Pérdida D: 0.6978, Precisión: 48.85%] [Pérdida G: 0.6740]\n",
      "\u001b[1m1/1\u001b[0m \u001b[32m━━━━━━━━━━━━━━━━━━━━\u001b[0m\u001b[37m\u001b[0m \u001b[1m0s\u001b[0m 17ms/step\n",
      "3 [Pérdida D: 0.6969, Precisión: 49.94%] [Pérdida G: 0.6724]\n",
      "\u001b[1m1/1\u001b[0m \u001b[32m━━━━━━━━━━━━━━━━━━━━\u001b[0m\u001b[37m\u001b[0m \u001b[1m0s\u001b[0m 17ms/step\n",
      "4 [Pérdida D: 0.6961, Precisión: 50.26%] [Pérdida G: 0.6725]\n",
      "\u001b[1m1/1\u001b[0m \u001b[32m━━━━━━━━━━━━━━━━━━━━\u001b[0m\u001b[37m\u001b[0m \u001b[1m0s\u001b[0m 16ms/step\n",
      "5 [Pérdida D: 0.6955, Precisión: 49.51%] [Pérdida G: 0.6730]\n",
      "\u001b[1m1/1\u001b[0m \u001b[32m━━━━━━━━━━━━━━━━━━━━\u001b[0m\u001b[37m\u001b[0m \u001b[1m0s\u001b[0m 16ms/step\n",
      "6 [Pérdida D: 0.6946, Precisión: 49.57%] [Pérdida G: 0.6740]\n",
      "\u001b[1m1/1\u001b[0m \u001b[32m━━━━━━━━━━━━━━━━━━━━\u001b[0m\u001b[37m\u001b[0m \u001b[1m0s\u001b[0m 17ms/step\n",
      "7 [Pérdida D: 0.6933, Precisión: 50.23%] [Pérdida G: 0.6731]\n",
      "\u001b[1m1/1\u001b[0m \u001b[32m━━━━━━━━━━━━━━━━━━━━\u001b[0m\u001b[37m\u001b[0m \u001b[1m0s\u001b[0m 16ms/step\n",
      "8 [Pérdida D: 0.6923, Precisión: 50.64%] [Pérdida G: 0.6738]\n",
      "\u001b[1m1/1\u001b[0m \u001b[32m━━━━━━━━━━━━━━━━━━━━\u001b[0m\u001b[37m\u001b[0m \u001b[1m0s\u001b[0m 16ms/step\n",
      "9 [Pérdida D: 0.6910, Precisión: 51.62%] [Pérdida G: 0.6730]\n",
      "\u001b[1m1/1\u001b[0m \u001b[32m━━━━━━━━━━━━━━━━━━━━\u001b[0m\u001b[37m\u001b[0m \u001b[1m0s\u001b[0m 16ms/step\n",
      "10 [Pérdida D: 0.6897, Precisión: 52.41%] [Pérdida G: 0.6717]\n",
      "\u001b[1m1/1\u001b[0m \u001b[32m━━━━━━━━━━━━━━━━━━━━\u001b[0m\u001b[37m\u001b[0m \u001b[1m0s\u001b[0m 15ms/step\n",
      "11 [Pérdida D: 0.6889, Precisión: 53.07%] [Pérdida G: 0.6713]\n",
      "\u001b[1m1/1\u001b[0m \u001b[32m━━━━━━━━━━━━━━━━━━━━\u001b[0m\u001b[37m\u001b[0m \u001b[1m0s\u001b[0m 16ms/step\n",
      "12 [Pérdida D: 0.6877, Precisión: 53.50%] [Pérdida G: 0.6706]\n",
      "\u001b[1m1/1\u001b[0m \u001b[32m━━━━━━━━━━━━━━━━━━━━\u001b[0m\u001b[37m\u001b[0m \u001b[1m0s\u001b[0m 16ms/step\n",
      "13 [Pérdida D: 0.6867, Precisión: 54.32%] [Pérdida G: 0.6702]\n",
      "\u001b[1m1/1\u001b[0m \u001b[32m━━━━━━━━━━━━━━━━━━━━\u001b[0m\u001b[37m\u001b[0m \u001b[1m0s\u001b[0m 16ms/step\n",
      "14 [Pérdida D: 0.6858, Precisión: 54.87%] [Pérdida G: 0.6707]\n",
      "\u001b[1m1/1\u001b[0m \u001b[32m━━━━━━━━━━━━━━━━━━━━\u001b[0m\u001b[37m\u001b[0m \u001b[1m0s\u001b[0m 16ms/step\n",
      "15 [Pérdida D: 0.6845, Precisión: 56.25%] [Pérdida G: 0.6709]\n",
      "\u001b[1m1/1\u001b[0m \u001b[32m━━━━━━━━━━━━━━━━━━━━\u001b[0m\u001b[37m\u001b[0m \u001b[1m0s\u001b[0m 15ms/step\n",
      "16 [Pérdida D: 0.6832, Precisión: 57.51%] [Pérdida G: 0.6702]\n",
      "\u001b[1m1/1\u001b[0m \u001b[32m━━━━━━━━━━━━━━━━━━━━\u001b[0m\u001b[37m\u001b[0m \u001b[1m0s\u001b[0m 16ms/step\n",
      "17 [Pérdida D: 0.6820, Precisión: 58.32%] [Pérdida G: 0.6694]\n",
      "\u001b[1m1/1\u001b[0m \u001b[32m━━━━━━━━━━━━━━━━━━━━\u001b[0m\u001b[37m\u001b[0m \u001b[1m0s\u001b[0m 15ms/step\n",
      "18 [Pérdida D: 0.6805, Precisión: 59.42%] [Pérdida G: 0.6685]\n",
      "\u001b[1m1/1\u001b[0m \u001b[32m━━━━━━━━━━━━━━━━━━━━\u001b[0m\u001b[37m\u001b[0m \u001b[1m0s\u001b[0m 16ms/step\n",
      "19 [Pérdida D: 0.6793, Precisión: 60.25%] [Pérdida G: 0.6677]\n"
     ]
    }
   ],
   "source": [
    "epochs = 20\n",
    "batch_size = 32\n",
    "valid = np.ones((batch_size, 1))\n",
    "fake = np.zeros((batch_size, 1))\n",
    "\n",
    "print(\"Pesos entrenables del discriminador:\", len(discriminator.trainable_weights))\n",
    "print(\"Pesos entrenables del generador:\", len(generator.trainable_weights))\n",
    "print(\"Pesos entrenables del modelo combinado:\", len(combined_model.trainable_weights))\n",
    "\n",
    "for epoch in range(epochs):\n",
    "    # ---------------------\n",
    "    #  Entrenar el discriminador\n",
    "    # ---------------------\n",
    "    idx = np.random.randint(0, X.shape[0], batch_size)\n",
    "    real_strategies = y[idx]\n",
    "    conditions = X[idx]\n",
    "\n",
    "    noise = np.random.normal(0, 1, (batch_size, noise_dim))\n",
    "    generated_strategies = generator.predict([noise, conditions])\n",
    "\n",
    "    d_loss_real = discriminator.train_on_batch([real_strategies, conditions], valid)\n",
    "    d_loss_fake = discriminator.train_on_batch([generated_strategies, conditions], fake)\n",
    "    d_loss = 0.5 * np.add(d_loss_real, d_loss_fake)\n",
    "\n",
    "    # ---------------------\n",
    "    #  Entrenar el generador\n",
    "    # ---------------------\n",
    "    g_loss = combined_model.train_on_batch([noise, conditions], valid)\n",
    "\n",
    "    print(f\"{epoch} [Pérdida D: {d_loss[0]:.4f}, Precisión: {d_loss[1]*100:.2f}%] [Pérdida G: {g_loss:.4f}]\")\n",
    "\n"
   ]
  },
  {
   "cell_type": "code",
   "execution_count": 366,
   "id": "b5d778d4-d0a3-4390-854b-64d3f5660f27",
   "metadata": {},
   "outputs": [
    {
     "name": "stdout",
     "output_type": "stream",
     "text": [
      "\u001b[1m1/1\u001b[0m \u001b[32m━━━━━━━━━━━━━━━━━━━━\u001b[0m\u001b[37m\u001b[0m \u001b[1m0s\u001b[0m 95ms/step\n",
      "Estrategia generada:\n",
      "Vuelta de parada: 35.68\n",
      "Duración del stint: 29.31\n",
      "Compuesto de neumático: HARD\n"
     ]
    }
   ],
   "source": [
    "# Generar una nueva estrategia\n",
    "noise = np.random.normal(0, 1, (1, noise_dim))\n",
    "sample_condition = X[0:1]  # Puedes elegir cualquier condición existente\n",
    "generated_strategy = generator.predict([noise, sample_condition])\n",
    "\n",
    "# Desescalar las variables numéricas\n",
    "generated_num = generated_strategy[:, :num_output_dim]\n",
    "\n",
    "generated_num_descaled = scaler_output.inverse_transform(generated_num)\n",
    "\n",
    "# Decodificar el 'Compound' generado\n",
    "generated_cat = generated_strategy[:, num_output_dim:]\n",
    "compound_index = np.argmax(generated_cat, axis=1)\n",
    "compound_label = encoder_output.categories_[0][compound_index]\n",
    "\n",
    "print(\"Estrategia generada:\")\n",
    "print(f\"Vuelta de parada: {generated_num_descaled[0][0]:.2f}\")\n",
    "print(f\"Duración del stint: {generated_num_descaled[0][1]:.2f}\")\n",
    "print(f\"Compuesto de neumático: {compound_label[0]}\")"
   ]
  },
  {
   "cell_type": "code",
   "execution_count": null,
   "id": "dde2c320-1a4f-46ce-9a71-0ebf30998688",
   "metadata": {},
   "outputs": [],
   "source": []
  },
  {
   "cell_type": "code",
   "execution_count": null,
   "id": "0d8fa39a-d101-4945-a1fa-5d82e4cfc884",
   "metadata": {},
   "outputs": [],
   "source": []
  },
  {
   "cell_type": "code",
   "execution_count": null,
   "id": "9231a003-98f2-4799-a69a-c77ebbbd322b",
   "metadata": {},
   "outputs": [],
   "source": []
  }
 ],
 "metadata": {
  "kernelspec": {
   "display_name": "Python 3 (ipykernel)",
   "language": "python",
   "name": "python3"
  },
  "language_info": {
   "codemirror_mode": {
    "name": "ipython",
    "version": 3
   },
   "file_extension": ".py",
   "mimetype": "text/x-python",
   "name": "python",
   "nbconvert_exporter": "python",
   "pygments_lexer": "ipython3",
   "version": "3.12.6"
  }
 },
 "nbformat": 4,
 "nbformat_minor": 5
}
